{
 "cells": [
  {
   "cell_type": "code",
   "execution_count": 1,
   "metadata": {
    "executionInfo": {
     "elapsed": 4,
     "status": "ok",
     "timestamp": 1647922577104,
     "user": {
      "displayName": "이기천",
      "photoUrl": "https://lh3.googleusercontent.com/a/default-user=s64",
      "userId": "04312855735425133717"
     },
     "user_tz": -540
    },
    "id": "xkwTejYmNPKb"
   },
   "outputs": [],
   "source": [
    "#https://www.statology.org/one-hot-encoding-in-python/\n",
    "\n",
    "import pandas as pd"
   ]
  },
  {
   "cell_type": "code",
   "execution_count": 2,
   "metadata": {
    "executionInfo": {
     "elapsed": 4,
     "status": "ok",
     "timestamp": 1647922577860,
     "user": {
      "displayName": "이기천",
      "photoUrl": "https://lh3.googleusercontent.com/a/default-user=s64",
      "userId": "04312855735425133717"
     },
     "user_tz": -540
    },
    "id": "0feeBhCkNeki"
   },
   "outputs": [],
   "source": [
    "#create DataFrame\n",
    "df = pd.DataFrame({'team': ['A', 'A', 'B', 'B', 'B', 'B', 'C', 'C'],\n",
    "                   'points': [25, 12, 15, 14, 19, 23, 25, 29]})"
   ]
  },
  {
   "cell_type": "code",
   "execution_count": 3,
   "metadata": {
    "colab": {
     "base_uri": "https://localhost:8080/"
    },
    "executionInfo": {
     "elapsed": 7,
     "status": "ok",
     "timestamp": 1647922579788,
     "user": {
      "displayName": "이기천",
      "photoUrl": "https://lh3.googleusercontent.com/a/default-user=s64",
      "userId": "04312855735425133717"
     },
     "user_tz": -540
    },
    "id": "R3H9GU0ENgrJ",
    "outputId": "7290f7bd-8f38-40da-9840-57c7ad3f2797"
   },
   "outputs": [
    {
     "name": "stdout",
     "output_type": "stream",
     "text": [
      "  team  points\n",
      "0    A      25\n",
      "1    A      12\n",
      "2    B      15\n",
      "3    B      14\n",
      "4    B      19\n",
      "5    B      23\n",
      "6    C      25\n",
      "7    C      29\n"
     ]
    }
   ],
   "source": [
    "#view DataFrame\n",
    "print(df)"
   ]
  },
  {
   "cell_type": "code",
   "execution_count": 4,
   "metadata": {
    "executionInfo": {
     "elapsed": 1301,
     "status": "ok",
     "timestamp": 1647922591594,
     "user": {
      "displayName": "이기천",
      "photoUrl": "https://lh3.googleusercontent.com/a/default-user=s64",
      "userId": "04312855735425133717"
     },
     "user_tz": -540
    },
    "id": "GtB9K_MHNl87"
   },
   "outputs": [],
   "source": [
    "from sklearn.preprocessing import OneHotEncoder"
   ]
  },
  {
   "cell_type": "code",
   "execution_count": 5,
   "metadata": {
    "colab": {
     "base_uri": "https://localhost:8080/"
    },
    "executionInfo": {
     "elapsed": 313,
     "status": "ok",
     "timestamp": 1647922615207,
     "user": {
      "displayName": "이기천",
      "photoUrl": "https://lh3.googleusercontent.com/a/default-user=s64",
      "userId": "04312855735425133717"
     },
     "user_tz": -540
    },
    "id": "JGf23w_gNo49",
    "outputId": "dcbef50c-c74d-4130-a645-91167a991d01"
   },
   "outputs": [
    {
     "name": "stdout",
     "output_type": "stream",
     "text": [
      "  team  points    0    1    2\n",
      "0    A      25  1.0  0.0  0.0\n",
      "1    A      12  1.0  0.0  0.0\n",
      "2    B      15  0.0  1.0  0.0\n",
      "3    B      14  0.0  1.0  0.0\n",
      "4    B      19  0.0  1.0  0.0\n",
      "5    B      23  0.0  1.0  0.0\n",
      "6    C      25  0.0  0.0  1.0\n",
      "7    C      29  0.0  0.0  1.0\n"
     ]
    }
   ],
   "source": [
    "#creating instance of one-hot-encoder\n",
    "encoder = OneHotEncoder(handle_unknown='ignore')\n",
    "\n",
    "#perform one-hot encoding on 'team' column \n",
    "encoder_df = pd.DataFrame(encoder.fit_transform(df[['team']]).toarray())\n",
    "\n",
    "#merge one-hot encoded columns back with original DataFrame\n",
    "final_df = df.join(encoder_df)\n",
    "\n",
    "#view final df\n",
    "print(final_df)"
   ]
  },
  {
   "cell_type": "code",
   "execution_count": 6,
   "metadata": {
    "colab": {
     "base_uri": "https://localhost:8080/"
    },
    "executionInfo": {
     "elapsed": 312,
     "status": "ok",
     "timestamp": 1647922881717,
     "user": {
      "displayName": "이기천",
      "photoUrl": "https://lh3.googleusercontent.com/a/default-user=s64",
      "userId": "04312855735425133717"
     },
     "user_tz": -540
    },
    "id": "gxaIItHvN0cr",
    "outputId": "9f8db426-8a06-46a5-862f-62ad49d30d4f"
   },
   "outputs": [
    {
     "name": "stdout",
     "output_type": "stream",
     "text": [
      "   points    0    1    2\n",
      "0      25  1.0  0.0  0.0\n",
      "1      12  1.0  0.0  0.0\n",
      "2      15  0.0  1.0  0.0\n",
      "3      14  0.0  1.0  0.0\n",
      "4      19  0.0  1.0  0.0\n",
      "5      23  0.0  1.0  0.0\n",
      "6      25  0.0  0.0  1.0\n",
      "7      29  0.0  0.0  1.0\n"
     ]
    }
   ],
   "source": [
    "#drop 'team' column\n",
    "final_df.drop('team', axis=1, inplace=True)\n",
    "\n",
    "#view final df\n",
    "print(final_df)"
   ]
  },
  {
   "cell_type": "code",
   "execution_count": null,
   "metadata": {
    "colab": {
     "base_uri": "https://localhost:8080/"
    },
    "executionInfo": {
     "elapsed": 8,
     "status": "ok",
     "timestamp": 1647828248248,
     "user": {
      "displayName": "이기천",
      "photoUrl": "https://lh3.googleusercontent.com/a/default-user=s64",
      "userId": "04312855735425133717"
     },
     "user_tz": -540
    },
    "id": "NNDXB_pYN51W",
    "outputId": "e028f5ab-ea64-43e1-9cd7-315ba0be6c1b"
   },
   "outputs": [
    {
     "name": "stdout",
     "output_type": "stream",
     "text": [
      "   points  teamA  teamB  teamC\n",
      "0      25    1.0    0.0    0.0\n",
      "1      12    1.0    0.0    0.0\n",
      "2      15    0.0    1.0    0.0\n",
      "3      14    0.0    1.0    0.0\n",
      "4      19    0.0    1.0    0.0\n",
      "5      23    0.0    1.0    0.0\n",
      "6      25    0.0    0.0    1.0\n",
      "7      29    0.0    0.0    1.0\n"
     ]
    }
   ],
   "source": [
    "#rename columns\n",
    "final_df.columns = ['points', 'teamA', 'teamB', 'teamC']\n",
    "\n",
    "#view final df\n",
    "print(final_df)"
   ]
  }
 ],
 "metadata": {
  "colab": {
   "authorship_tag": "ABX9TyPFKyca7im8MU9FOumvFR6n",
   "collapsed_sections": [],
   "name": "OneHotEndoingExample.ipynb",
   "provenance": []
  },
  "kernelspec": {
   "display_name": "Python 3 (ipykernel)",
   "language": "python",
   "name": "python3"
  },
  "language_info": {
   "codemirror_mode": {
    "name": "ipython",
    "version": 3
   },
   "file_extension": ".py",
   "mimetype": "text/x-python",
   "name": "python",
   "nbconvert_exporter": "python",
   "pygments_lexer": "ipython3",
   "version": "3.9.13"
  }
 },
 "nbformat": 4,
 "nbformat_minor": 4
}
