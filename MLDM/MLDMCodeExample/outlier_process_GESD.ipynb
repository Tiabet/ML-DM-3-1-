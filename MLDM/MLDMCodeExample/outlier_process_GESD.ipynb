{
 "cells": [
  {
   "cell_type": "code",
   "execution_count": 1,
   "metadata": {
    "executionInfo": {
     "elapsed": 648,
     "status": "ok",
     "timestamp": 1647051992055,
     "user": {
      "displayName": "이기천",
      "photoUrl": "https://lh3.googleusercontent.com/a/default-user=s64",
      "userId": "04312855735425133717"
     },
     "user_tz": -540
    },
    "id": "uA_OIP6T8rVP"
   },
   "outputs": [],
   "source": [
    "# https://towardsdatascience.com/anomaly-detection-with-generalized-extreme-studentized-deviate-in-python-f350075900e2\n",
    "import numpy as np\n",
    "import scipy.stats as stats"
   ]
  },
  {
   "cell_type": "code",
   "execution_count": 2,
   "metadata": {
    "executionInfo": {
     "elapsed": 587,
     "status": "ok",
     "timestamp": 1647051994582,
     "user": {
      "displayName": "이기천",
      "photoUrl": "https://lh3.googleusercontent.com/a/default-user=s64",
      "userId": "04312855735425133717"
     },
     "user_tz": -540
    },
    "id": "gjvT5V278rVW"
   },
   "outputs": [],
   "source": [
    "import matplotlib.pyplot as plt\n",
    "import pandas as pd"
   ]
  },
  {
   "cell_type": "code",
   "execution_count": 3,
   "metadata": {
    "executionInfo": {
     "elapsed": 5,
     "status": "ok",
     "timestamp": 1647051996252,
     "user": {
      "displayName": "이기천",
      "photoUrl": "https://lh3.googleusercontent.com/a/default-user=s64",
      "userId": "04312855735425133717"
     },
     "user_tz": -540
    },
    "id": "7gk4_GQw8rVX"
   },
   "outputs": [],
   "source": [
    "#Example Data 생성\n",
    "\n",
    "y=np.random.random(100)\n",
    "x=np.arange(len(y))"
   ]
  },
  {
   "cell_type": "code",
   "execution_count": 4,
   "metadata": {
    "colab": {
     "base_uri": "https://localhost:8080/",
     "height": 265
    },
    "executionInfo": {
     "elapsed": 655,
     "status": "ok",
     "timestamp": 1647051999458,
     "user": {
      "displayName": "이기천",
      "photoUrl": "https://lh3.googleusercontent.com/a/default-user=s64",
      "userId": "04312855735425133717"
     },
     "user_tz": -540
    },
    "id": "Pl6AgVw48rVY",
    "outputId": "4c37ea0d-456a-478e-8e78-863573151ec9"
   },
   "outputs": [
    {
     "data": {
      "image/png": "[encoded data removed]",
      "text/plain": [
       "<Figure size 640x480 with 1 Axes>"
      ]
     },
     "metadata": {},
     "output_type": "display_data"
    }
   ],
   "source": [
    "plt.scatter(x,y)\n",
    "plt.show()"
   ]
  },
  {
   "cell_type": "code",
   "execution_count": 5,
   "metadata": {
    "executionInfo": {
     "elapsed": 239,
     "status": "ok",
     "timestamp": 1647052002490,
     "user": {
      "displayName": "이기천",
      "photoUrl": "https://lh3.googleusercontent.com/a/default-user=s64",
      "userId": "04312855735425133717"
     },
     "user_tz": -540
    },
    "id": "X2Y5DNOV8rVa"
   },
   "outputs": [],
   "source": [
    "# test static 계산하는 함수\n",
    "# R을 계산\n",
    "\n",
    "def test_stat(y, iteration):\n",
    "    std_dev=np.std(y)\n",
    "    avg_y=np.mean(y)\n",
    "    abs_val_minus_avg=abs(y-avg_y)\n",
    "    max_of_deviations=max(abs_val_minus_avg)\n",
    "    max_ind=np.argmax(abs_val_minus_avg)\n",
    "    cal=max_of_deviations/std_dev\n",
    "    print('Test Statistic Value(R{}): {}'.format(iteration,cal))\n",
    "    return cal, max_ind"
   ]
  },
  {
   "cell_type": "code",
   "execution_count": 6,
   "metadata": {
    "executionInfo": {
     "elapsed": 226,
     "status": "ok",
     "timestamp": 1647052006443,
     "user": {
      "displayName": "이기천",
      "photoUrl": "https://lh3.googleusercontent.com/a/default-user=s64",
      "userId": "04312855735425133717"
     },
     "user_tz": -540
    },
    "id": "a9xTiNvp8rVb"
   },
   "outputs": [],
   "source": [
    "# Critical Value 계산하는 함수\n",
    "# 람다를 계산\n",
    "\n",
    "def calculate_critical_value(size, alpha, iteration):\n",
    "    t_dist=stats.t.ppf(1-alpha/(2*size),size-2)\n",
    "    numerator=(size-1)*np.sqrt(np.square(t_dist))\n",
    "    denominator=np.sqrt(size)*np.sqrt(size-2+np.square(t_dist))\n",
    "    critical_value=numerator/denominator\n",
    "    print('Critical Value(λ{}):{}'.format(iteration, critical_value))\n",
    "    return critical_value"
   ]
  },
  {
   "cell_type": "code",
   "execution_count": 7,
   "metadata": {
    "executionInfo": {
     "elapsed": 236,
     "status": "ok",
     "timestamp": 1647052010881,
     "user": {
      "displayName": "이기천",
      "photoUrl": "https://lh3.googleusercontent.com/a/default-user=s64",
      "userId": "04312855735425133717"
     },
     "user_tz": -540
    },
    "id": "Nqyf6S758rVc"
   },
   "outputs": [],
   "source": [
    "def check_values(R, C, inp, max_index, iteration):\n",
    "    if R > C:\n",
    "        print('{} is an outlier. R{} > λ{}: {:.4f} > {:.4f} \\n'.format(inp[max_index],iteration, iteration, R, C))\n",
    "    else:\n",
    "        print('{} is not an outlier. R{}> λ{}: {:.4f} > {:.4f} \\n'.format(inp[max_index],iteration, iteration, R, C))"
   ]
  },
  {
   "cell_type": "code",
   "execution_count": 8,
   "metadata": {
    "executionInfo": {
     "elapsed": 225,
     "status": "ok",
     "timestamp": 1647052030329,
     "user": {
      "displayName": "이기천",
      "photoUrl": "https://lh3.googleusercontent.com/a/default-user=s64",
      "userId": "04312855735425133717"
     },
     "user_tz": -540
    },
    "id": "R7mi9nj98rVd"
   },
   "outputs": [],
   "source": [
    "#GESD test 하는 함수\n",
    "\n",
    "def ESD_Test(input_series, alpha, max_outliers):\n",
    "    stats=[]\n",
    "    critical_vals=[]\n",
    "    max_i=0\n",
    "    for iterations in range(1, max_outliers+1):\n",
    "        stat, max_index=test_stat(input_series, iterations)\n",
    "        critical=calculate_critical_value(len(input_series),alpha,iterations)\n",
    "        check_values(stat, critical, input_series, max_index, iterations)\n",
    "        input_series=np.delete(input_series, max_index)\n",
    "        critical_vals.append(critical)\n",
    "        stats.append(stat)\n",
    "        if stat>critical:\n",
    "            max_i=iterations\n",
    "            \n",
    "    \n",
    "    df=pd.DataFrame({'i':range(1,max_outliers+1),'Ri':stats,'λi':critical_vals})\n",
    "    \n",
    "    def highlight_max(x):\n",
    "        if x.i==max_i:\n",
    "            return['background-color: yellow']*3\n",
    "        else:\n",
    "            return['background-color:white']*3\n",
    "        \n",
    "    df.index=df.index+1\n",
    "    print('Number of outliers {}'.format(max_i))\n",
    "    \n",
    "    return df.style.apply(highlight_max, axis=1)"
   ]
  },
  {
   "cell_type": "code",
   "execution_count": 9,
   "metadata": {
    "colab": {
     "base_uri": "https://localhost:8080/",
     "height": 801
    },
    "executionInfo": {
     "elapsed": 401,
     "status": "ok",
     "timestamp": 1647052038746,
     "user": {
      "displayName": "이기천",
      "photoUrl": "https://lh3.googleusercontent.com/a/default-user=s64",
      "userId": "04312855735425133717"
     },
     "user_tz": -540
    },
    "id": "C-mnL2sP8rVe",
    "outputId": "1ec680e4-2c18-44e7-cdef-39aa34f3d578"
   },
   "outputs": [
    {
     "name": "stdout",
     "output_type": "stream",
     "text": [
      "Test Statistic Value(R1): 1.9709102387243382\n",
      "Critical Value(λ1):3.384082902288351\n",
      "0.010213738833122599 is not an outlier. R1> λ1: 1.9709 > 3.3841 \n",
      "\n",
      "Test Statistic Value(R2): 1.9206767273144507\n",
      "Critical Value(λ2):3.380650508067058\n",
      "0.03726899725642174 is not an outlier. R2> λ2: 1.9207 > 3.3807 \n",
      "\n",
      "Test Statistic Value(R3): 1.9334780676478838\n",
      "Critical Value(λ3):3.377175980782947\n",
      "0.046417693680052996 is not an outlier. R3> λ3: 1.9335 > 3.3772 \n",
      "\n",
      "Test Statistic Value(R4): 1.9782574423989603\n",
      "Critical Value(λ4):3.3736583400522497\n",
      "0.04739612803145388 is not an outlier. R4> λ4: 1.9783 > 3.3737 \n",
      "\n",
      "Test Statistic Value(R5): 2.012121151892568\n",
      "Critical Value(λ5):3.370096570986626\n",
      "0.05210449855740518 is not an outlier. R5> λ5: 2.0121 > 3.3701 \n",
      "\n",
      "Test Statistic Value(R6): 1.946482083171557\n",
      "Critical Value(λ6):3.3664896240676505\n",
      "0.08277835381659626 is not an outlier. R6> λ6: 1.9465 > 3.3665 \n",
      "\n",
      "Test Statistic Value(R7): 1.929889082652181\n",
      "Critical Value(λ7):3.362836413028039\n",
      "0.09969016623277582 is not an outlier. R7> λ7: 1.9299 > 3.3628 \n",
      "\n",
      "Number of outliers 0\n"
     ]
    },
    {
     "data": {
      "text/html": [
       "<style type=\"text/css\">\n",
       "#T_4de47_row0_col0, #T_4de47_row0_col1, #T_4de47_row0_col2, #T_4de47_row1_col0, #T_4de47_row1_col1, #T_4de47_row1_col2, #T_4de47_row2_col0, #T_4de47_row2_col1, #T_4de47_row2_col2, #T_4de47_row3_col0, #T_4de47_row3_col1, #T_4de47_row3_col2, #T_4de47_row4_col0, #T_4de47_row4_col1, #T_4de47_row4_col2, #T_4de47_row5_col0, #T_4de47_row5_col1, #T_4de47_row5_col2, #T_4de47_row6_col0, #T_4de47_row6_col1, #T_4de47_row6_col2 {\n",
       "  background-color: white;\n",
       "}\n",
       "</style>\n",
       "<table id=\"T_4de47\">\n",
       "  <thead>\n",
       "    <tr>\n",
       "      <th class=\"blank level0\" >&nbsp;</th>\n",
       "      <th id=\"T_4de47_level0_col0\" class=\"col_heading level0 col0\" >i</th>\n",
       "      <th id=\"T_4de47_level0_col1\" class=\"col_heading level0 col1\" >Ri</th>\n",
       "      <th id=\"T_4de47_level0_col2\" class=\"col_heading level0 col2\" >λi</th>\n",
       "    </tr>\n",
       "  </thead>\n",
       "  <tbody>\n",
       "    <tr>\n",
       "      <th id=\"T_4de47_level0_row0\" class=\"row_heading level0 row0\" >1</th>\n",
       "      <td id=\"T_4de47_row0_col0\" class=\"data row0 col0\" >1</td>\n",
       "      <td id=\"T_4de47_row0_col1\" class=\"data row0 col1\" >1.970910</td>\n",
       "      <td id=\"T_4de47_row0_col2\" class=\"data row0 col2\" >3.384083</td>\n",
       "    </tr>\n",
       "    <tr>\n",
       "      <th id=\"T_4de47_level0_row1\" class=\"row_heading level0 row1\" >2</th>\n",
       "      <td id=\"T_4de47_row1_col0\" class=\"data row1 col0\" >2</td>\n",
       "      <td id=\"T_4de47_row1_col1\" class=\"data row1 col1\" >1.920677</td>\n",
       "      <td id=\"T_4de47_row1_col2\" class=\"data row1 col2\" >3.380651</td>\n",
       "    </tr>\n",
       "    <tr>\n",
       "      <th id=\"T_4de47_level0_row2\" class=\"row_heading level0 row2\" >3</th>\n",
       "      <td id=\"T_4de47_row2_col0\" class=\"data row2 col0\" >3</td>\n",
       "      <td id=\"T_4de47_row2_col1\" class=\"data row2 col1\" >1.933478</td>\n",
       "      <td id=\"T_4de47_row2_col2\" class=\"data row2 col2\" >3.377176</td>\n",
       "    </tr>\n",
       "    <tr>\n",
       "      <th id=\"T_4de47_level0_row3\" class=\"row_heading level0 row3\" >4</th>\n",
       "      <td id=\"T_4de47_row3_col0\" class=\"data row3 col0\" >4</td>\n",
       "      <td id=\"T_4de47_row3_col1\" class=\"data row3 col1\" >1.978257</td>\n",
       "      <td id=\"T_4de47_row3_col2\" class=\"data row3 col2\" >3.373658</td>\n",
       "    </tr>\n",
       "    <tr>\n",
       "      <th id=\"T_4de47_level0_row4\" class=\"row_heading level0 row4\" >5</th>\n",
       "      <td id=\"T_4de47_row4_col0\" class=\"data row4 col0\" >5</td>\n",
       "      <td id=\"T_4de47_row4_col1\" class=\"data row4 col1\" >2.012121</td>\n",
       "      <td id=\"T_4de47_row4_col2\" class=\"data row4 col2\" >3.370097</td>\n",
       "    </tr>\n",
       "    <tr>\n",
       "      <th id=\"T_4de47_level0_row5\" class=\"row_heading level0 row5\" >6</th>\n",
       "      <td id=\"T_4de47_row5_col0\" class=\"data row5 col0\" >6</td>\n",
       "      <td id=\"T_4de47_row5_col1\" class=\"data row5 col1\" >1.946482</td>\n",
       "      <td id=\"T_4de47_row5_col2\" class=\"data row5 col2\" >3.366490</td>\n",
       "    </tr>\n",
       "    <tr>\n",
       "      <th id=\"T_4de47_level0_row6\" class=\"row_heading level0 row6\" >7</th>\n",
       "      <td id=\"T_4de47_row6_col0\" class=\"data row6 col0\" >7</td>\n",
       "      <td id=\"T_4de47_row6_col1\" class=\"data row6 col1\" >1.929889</td>\n",
       "      <td id=\"T_4de47_row6_col2\" class=\"data row6 col2\" >3.362836</td>\n",
       "    </tr>\n",
       "  </tbody>\n",
       "</table>\n"
      ],
      "text/plain": [
       "<pandas.io.formats.style.Styler at 0x252e5d65df0>"
      ]
     },
     "execution_count": 9,
     "metadata": {},
     "output_type": "execute_result"
    }
   ],
   "source": [
    "ESD_Test(y,0.05,7)"
   ]
  },
  {
   "cell_type": "code",
   "execution_count": 10,
   "metadata": {
    "executionInfo": {
     "elapsed": 231,
     "status": "ok",
     "timestamp": 1647052056192,
     "user": {
      "displayName": "이기천",
      "photoUrl": "https://lh3.googleusercontent.com/a/default-user=s64",
      "userId": "04312855735425133717"
     },
     "user_tz": -540
    },
    "id": "-dpfQ6uH8rVf"
   },
   "outputs": [],
   "source": [
    "y[14] = 9\n",
    "y[83] = 10\n",
    "y[44] = 14"
   ]
  },
  {
   "cell_type": "code",
   "execution_count": 11,
   "metadata": {
    "colab": {
     "base_uri": "https://localhost:8080/",
     "height": 801
    },
    "executionInfo": {
     "elapsed": 249,
     "status": "ok",
     "timestamp": 1647052060823,
     "user": {
      "displayName": "이기천",
      "photoUrl": "https://lh3.googleusercontent.com/a/default-user=s64",
      "userId": "04312855735425133717"
     },
     "user_tz": -540
    },
    "id": "tKFH78378rVg",
    "outputId": "7ba28f13-c751-4c14-f95d-56ac3bcafb48"
   },
   "outputs": [
    {
     "name": "stdout",
     "output_type": "stream",
     "text": [
      "Test Statistic Value(R1): 7.1327895988199925\n",
      "Critical Value(λ1):3.384082902288351\n",
      "14.0 is an outlier. R1 > λ1: 7.1328 > 3.3841 \n",
      "\n",
      "Test Statistic Value(R2): 7.1835888913529535\n",
      "Critical Value(λ2):3.380650508067058\n",
      "10.0 is an outlier. R2 > λ2: 7.1836 > 3.3807 \n",
      "\n",
      "Test Statistic Value(R3): 9.373346848590677\n",
      "Critical Value(λ3):3.377175980782947\n",
      "9.0 is an outlier. R3 > λ3: 9.3733 > 3.3772 \n",
      "\n",
      "Test Statistic Value(R4): 1.9431828661111707\n",
      "Critical Value(λ4):3.3736583400522497\n",
      "0.010213738833122599 is not an outlier. R4> λ4: 1.9432 > 3.3737 \n",
      "\n",
      "Test Statistic Value(R5): 1.8931729448415728\n",
      "Critical Value(λ5):3.370096570986626\n",
      "0.03726899725642174 is not an outlier. R5> λ5: 1.8932 > 3.3701 \n",
      "\n",
      "Test Statistic Value(R6): 1.9058743726263585\n",
      "Critical Value(λ6):3.3664896240676505\n",
      "0.046417693680052996 is not an outlier. R6> λ6: 1.9059 > 3.3665 \n",
      "\n",
      "Test Statistic Value(R7): 1.950403544341523\n",
      "Critical Value(λ7):3.362836413028039\n",
      "0.04739612803145388 is not an outlier. R7> λ7: 1.9504 > 3.3628 \n",
      "\n",
      "Number of outliers 3\n"
     ]
    },
    {
     "data": {
      "text/html": [
       "<style type=\"text/css\">\n",
       "#T_232bf_row0_col0, #T_232bf_row0_col1, #T_232bf_row0_col2, #T_232bf_row1_col0, #T_232bf_row1_col1, #T_232bf_row1_col2, #T_232bf_row3_col0, #T_232bf_row3_col1, #T_232bf_row3_col2, #T_232bf_row4_col0, #T_232bf_row4_col1, #T_232bf_row4_col2, #T_232bf_row5_col0, #T_232bf_row5_col1, #T_232bf_row5_col2, #T_232bf_row6_col0, #T_232bf_row6_col1, #T_232bf_row6_col2 {\n",
       "  background-color: white;\n",
       "}\n",
       "#T_232bf_row2_col0, #T_232bf_row2_col1, #T_232bf_row2_col2 {\n",
       "  background-color: yellow;\n",
       "}\n",
       "</style>\n",
       "<table id=\"T_232bf\">\n",
       "  <thead>\n",
       "    <tr>\n",
       "      <th class=\"blank level0\" >&nbsp;</th>\n",
       "      <th id=\"T_232bf_level0_col0\" class=\"col_heading level0 col0\" >i</th>\n",
       "      <th id=\"T_232bf_level0_col1\" class=\"col_heading level0 col1\" >Ri</th>\n",
       "      <th id=\"T_232bf_level0_col2\" class=\"col_heading level0 col2\" >λi</th>\n",
       "    </tr>\n",
       "  </thead>\n",
       "  <tbody>\n",
       "    <tr>\n",
       "      <th id=\"T_232bf_level0_row0\" class=\"row_heading level0 row0\" >1</th>\n",
       "      <td id=\"T_232bf_row0_col0\" class=\"data row0 col0\" >1</td>\n",
       "      <td id=\"T_232bf_row0_col1\" class=\"data row0 col1\" >7.132790</td>\n",
       "      <td id=\"T_232bf_row0_col2\" class=\"data row0 col2\" >3.384083</td>\n",
       "    </tr>\n",
       "    <tr>\n",
       "      <th id=\"T_232bf_level0_row1\" class=\"row_heading level0 row1\" >2</th>\n",
       "      <td id=\"T_232bf_row1_col0\" class=\"data row1 col0\" >2</td>\n",
       "      <td id=\"T_232bf_row1_col1\" class=\"data row1 col1\" >7.183589</td>\n",
       "      <td id=\"T_232bf_row1_col2\" class=\"data row1 col2\" >3.380651</td>\n",
       "    </tr>\n",
       "    <tr>\n",
       "      <th id=\"T_232bf_level0_row2\" class=\"row_heading level0 row2\" >3</th>\n",
       "      <td id=\"T_232bf_row2_col0\" class=\"data row2 col0\" >3</td>\n",
       "      <td id=\"T_232bf_row2_col1\" class=\"data row2 col1\" >9.373347</td>\n",
       "      <td id=\"T_232bf_row2_col2\" class=\"data row2 col2\" >3.377176</td>\n",
       "    </tr>\n",
       "    <tr>\n",
       "      <th id=\"T_232bf_level0_row3\" class=\"row_heading level0 row3\" >4</th>\n",
       "      <td id=\"T_232bf_row3_col0\" class=\"data row3 col0\" >4</td>\n",
       "      <td id=\"T_232bf_row3_col1\" class=\"data row3 col1\" >1.943183</td>\n",
       "      <td id=\"T_232bf_row3_col2\" class=\"data row3 col2\" >3.373658</td>\n",
       "    </tr>\n",
       "    <tr>\n",
       "      <th id=\"T_232bf_level0_row4\" class=\"row_heading level0 row4\" >5</th>\n",
       "      <td id=\"T_232bf_row4_col0\" class=\"data row4 col0\" >5</td>\n",
       "      <td id=\"T_232bf_row4_col1\" class=\"data row4 col1\" >1.893173</td>\n",
       "      <td id=\"T_232bf_row4_col2\" class=\"data row4 col2\" >3.370097</td>\n",
       "    </tr>\n",
       "    <tr>\n",
       "      <th id=\"T_232bf_level0_row5\" class=\"row_heading level0 row5\" >6</th>\n",
       "      <td id=\"T_232bf_row5_col0\" class=\"data row5 col0\" >6</td>\n",
       "      <td id=\"T_232bf_row5_col1\" class=\"data row5 col1\" >1.905874</td>\n",
       "      <td id=\"T_232bf_row5_col2\" class=\"data row5 col2\" >3.366490</td>\n",
       "    </tr>\n",
       "    <tr>\n",
       "      <th id=\"T_232bf_level0_row6\" class=\"row_heading level0 row6\" >7</th>\n",
       "      <td id=\"T_232bf_row6_col0\" class=\"data row6 col0\" >7</td>\n",
       "      <td id=\"T_232bf_row6_col1\" class=\"data row6 col1\" >1.950404</td>\n",
       "      <td id=\"T_232bf_row6_col2\" class=\"data row6 col2\" >3.362836</td>\n",
       "    </tr>\n",
       "  </tbody>\n",
       "</table>\n"
      ],
      "text/plain": [
       "<pandas.io.formats.style.Styler at 0x252e5d65310>"
      ]
     },
     "execution_count": 11,
     "metadata": {},
     "output_type": "execute_result"
    }
   ],
   "source": [
    "ESD_Test(y,0.05,7)"
   ]
  },
  {
   "cell_type": "code",
   "execution_count": 12,
   "metadata": {
    "executionInfo": {
     "elapsed": 230,
     "status": "ok",
     "timestamp": 1647052066344,
     "user": {
      "displayName": "이기천",
      "photoUrl": "https://lh3.googleusercontent.com/a/default-user=s64",
      "userId": "04312855735425133717"
     },
     "user_tz": -540
    },
    "id": "B3NxZMrA8rVg"
   },
   "outputs": [],
   "source": [
    "mydata = np.array([-0.25, 0.68, 0.94, 1.15, 1.2, 1.26, 1.26, 1.34,\n",
    "    1.38, 1.43, 1.49, 1.49, 1.55, 1.56, 1.58, 1.65, 1.69, 1.7, 1.76,\n",
    "    1.77, 1.81, 1.91, 1.94, 1.96, 1.99, 2.06, 2.09, 2.1, 2.14, 2.15,\n",
    "    2.23, 2.24, 2.26, 2.35, 2.37, 2.4, 2.47, 2.54, 2.62, 2.64, 2.9,\n",
    "    2.92, 2.92, 2.93, 3.21, 3.26, 3.3, 3.59, 3.68, 4.3, 4.64, 5.34,\n",
    "    5.42, 6.01])"
   ]
  },
  {
   "cell_type": "code",
   "execution_count": 13,
   "metadata": {
    "colab": {
     "base_uri": "https://localhost:8080/",
     "height": 265
    },
    "executionInfo": {
     "elapsed": 261,
     "status": "ok",
     "timestamp": 1647052069055,
     "user": {
      "displayName": "이기천",
      "photoUrl": "https://lh3.googleusercontent.com/a/default-user=s64",
      "userId": "04312855735425133717"
     },
     "user_tz": -540
    },
    "id": "E1MB7zrZ8rVh",
    "outputId": "4b7f2bf5-12e8-472f-879a-ff2808d1c1b8"
   },
   "outputs": [
    {
     "data": {
      "image/png": "[encoded data removed]",
      "text/plain": [
       "<Figure size 640x480 with 1 Axes>"
      ]
     },
     "metadata": {},
     "output_type": "display_data"
    }
   ],
   "source": [
    "plt.hist(mydata, bins = 20)\n",
    "#plt.hist(mydata, bins = [-2, -1.5, -1.0, -0.5, 0, 0.5, 1.0, 1.5, 2.0, 2.5, 3.0, 3.5, 4.0, 4.5, 5.0, 5.5, 6.0, 6.6])\n",
    "plt.show()"
   ]
  },
  {
   "cell_type": "code",
   "execution_count": 15,
   "metadata": {
    "colab": {
     "base_uri": "https://localhost:8080/",
     "height": 592
    },
    "executionInfo": {
     "elapsed": 235,
     "status": "ok",
     "timestamp": 1647052071538,
     "user": {
      "displayName": "이기천",
      "photoUrl": "https://lh3.googleusercontent.com/a/default-user=s64",
      "userId": "04312855735425133717"
     },
     "user_tz": -540
    },
    "id": "9MTaOiHQ8rVi",
    "outputId": "a587e591-c1d0-40d7-9ba7-3e0ad8195a05"
   },
   "outputs": [
    {
     "name": "stdout",
     "output_type": "stream",
     "text": [
      "Test Statistic Value(R1): 3.148192194297463\n",
      "Critical Value(λ1):3.1587939408872967\n",
      "6.01 is not an outlier. R1> λ1: 3.1482 > 3.1588 \n",
      "\n",
      "Test Statistic Value(R2): 2.9711361774720038\n",
      "Critical Value(λ2):3.1514300233157844\n",
      "5.42 is not an outlier. R2> λ2: 2.9711 > 3.1514 \n",
      "\n",
      "Test Statistic Value(R3): 3.2104434413866363\n",
      "Critical Value(λ3):3.14388968503173\n",
      "5.34 is an outlier. R3 > λ3: 3.2104 > 3.1439 \n",
      "\n",
      "Test Statistic Value(R4): 2.838143834583844\n",
      "Critical Value(λ4):3.136164956057485\n",
      "4.64 is not an outlier. R4> λ4: 2.8381 > 3.1362 \n",
      "\n",
      "Test Statistic Value(R5): 2.8441648604024397\n",
      "Critical Value(λ5):3.1282473343306387\n",
      "-0.25 is not an outlier. R5> λ5: 2.8442 > 3.1282 \n",
      "\n",
      "Number of outliers 3\n"
     ]
    },
    {
     "data": {
      "text/html": [
       "<style type=\"text/css\">\n",
       "#T_8d046_row0_col0, #T_8d046_row0_col1, #T_8d046_row0_col2, #T_8d046_row1_col0, #T_8d046_row1_col1, #T_8d046_row1_col2, #T_8d046_row3_col0, #T_8d046_row3_col1, #T_8d046_row3_col2, #T_8d046_row4_col0, #T_8d046_row4_col1, #T_8d046_row4_col2 {\n",
       "  background-color: white;\n",
       "}\n",
       "#T_8d046_row2_col0, #T_8d046_row2_col1, #T_8d046_row2_col2 {\n",
       "  background-color: yellow;\n",
       "}\n",
       "</style>\n",
       "<table id=\"T_8d046\">\n",
       "  <thead>\n",
       "    <tr>\n",
       "      <th class=\"blank level0\" >&nbsp;</th>\n",
       "      <th id=\"T_8d046_level0_col0\" class=\"col_heading level0 col0\" >i</th>\n",
       "      <th id=\"T_8d046_level0_col1\" class=\"col_heading level0 col1\" >Ri</th>\n",
       "      <th id=\"T_8d046_level0_col2\" class=\"col_heading level0 col2\" >λi</th>\n",
       "    </tr>\n",
       "  </thead>\n",
       "  <tbody>\n",
       "    <tr>\n",
       "      <th id=\"T_8d046_level0_row0\" class=\"row_heading level0 row0\" >1</th>\n",
       "      <td id=\"T_8d046_row0_col0\" class=\"data row0 col0\" >1</td>\n",
       "      <td id=\"T_8d046_row0_col1\" class=\"data row0 col1\" >3.148192</td>\n",
       "      <td id=\"T_8d046_row0_col2\" class=\"data row0 col2\" >3.158794</td>\n",
       "    </tr>\n",
       "    <tr>\n",
       "      <th id=\"T_8d046_level0_row1\" class=\"row_heading level0 row1\" >2</th>\n",
       "      <td id=\"T_8d046_row1_col0\" class=\"data row1 col0\" >2</td>\n",
       "      <td id=\"T_8d046_row1_col1\" class=\"data row1 col1\" >2.971136</td>\n",
       "      <td id=\"T_8d046_row1_col2\" class=\"data row1 col2\" >3.151430</td>\n",
       "    </tr>\n",
       "    <tr>\n",
       "      <th id=\"T_8d046_level0_row2\" class=\"row_heading level0 row2\" >3</th>\n",
       "      <td id=\"T_8d046_row2_col0\" class=\"data row2 col0\" >3</td>\n",
       "      <td id=\"T_8d046_row2_col1\" class=\"data row2 col1\" >3.210443</td>\n",
       "      <td id=\"T_8d046_row2_col2\" class=\"data row2 col2\" >3.143890</td>\n",
       "    </tr>\n",
       "    <tr>\n",
       "      <th id=\"T_8d046_level0_row3\" class=\"row_heading level0 row3\" >4</th>\n",
       "      <td id=\"T_8d046_row3_col0\" class=\"data row3 col0\" >4</td>\n",
       "      <td id=\"T_8d046_row3_col1\" class=\"data row3 col1\" >2.838144</td>\n",
       "      <td id=\"T_8d046_row3_col2\" class=\"data row3 col2\" >3.136165</td>\n",
       "    </tr>\n",
       "    <tr>\n",
       "      <th id=\"T_8d046_level0_row4\" class=\"row_heading level0 row4\" >5</th>\n",
       "      <td id=\"T_8d046_row4_col0\" class=\"data row4 col0\" >5</td>\n",
       "      <td id=\"T_8d046_row4_col1\" class=\"data row4 col1\" >2.844165</td>\n",
       "      <td id=\"T_8d046_row4_col2\" class=\"data row4 col2\" >3.128247</td>\n",
       "    </tr>\n",
       "  </tbody>\n",
       "</table>\n"
      ],
      "text/plain": [
       "<pandas.io.formats.style.Styler at 0x252e2f94ca0>"
      ]
     },
     "execution_count": 15,
     "metadata": {},
     "output_type": "execute_result"
    }
   ],
   "source": [
    "ESD_Test(mydata,0.05,5)"
   ]
  },
  {
   "cell_type": "code",
   "execution_count": null,
   "metadata": {
    "id": "u7Q2mZ238rVi"
   },
   "outputs": [],
   "source": []
  }
 ],
 "metadata": {
  "colab": {
   "name": "outlier_process_GESD.ipynb",
   "provenance": []
  },
  "kernelspec": {
   "display_name": "Python 3 (ipykernel)",
   "language": "python",
   "name": "python3"
  },
  "language_info": {
   "codemirror_mode": {
    "name": "ipython",
    "version": 3
   },
   "file_extension": ".py",
   "mimetype": "text/x-python",
   "name": "python",
   "nbconvert_exporter": "python",
   "pygments_lexer": "ipython3",
   "version": "3.9.13"
  }
 },
 "nbformat": 4,
 "nbformat_minor": 4
}
