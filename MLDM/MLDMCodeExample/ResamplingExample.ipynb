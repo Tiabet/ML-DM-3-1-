{
 "cells": [
  {
   "cell_type": "code",
   "execution_count": 1,
   "id": "9418c18e",
   "metadata": {
    "executionInfo": {
     "elapsed": 2,
     "status": "ok",
     "timestamp": 1647838004092,
     "user": {
      "displayName": "이기천",
      "photoUrl": "https://lh3.googleusercontent.com/a/default-user=s64",
      "userId": "04312855735425133717"
     },
     "user_tz": -540
    },
    "id": "9418c18e"
   },
   "outputs": [],
   "source": [
    "#https://people.duke.edu/~ccc14/sta-663/ResamplingAndMonteCarloSimulations.html\n",
    "import glob\n",
    "import matplotlib.pyplot as plt\n",
    "import numpy as np\n",
    "import pandas as pd\n",
    "%matplotlib inline\n",
    "%precision 4\n",
    "plt.style.use('ggplot')\n",
    "np.set_printoptions(formatter={'float': lambda x: '%.3f' % x})\n"
   ]
  },
  {
   "cell_type": "code",
   "execution_count": 2,
   "id": "f4c772d6",
   "metadata": {
    "executionInfo": {
     "elapsed": 288,
     "status": "ok",
     "timestamp": 1647838009394,
     "user": {
      "displayName": "이기천",
      "photoUrl": "https://lh3.googleusercontent.com/a/default-user=s64",
      "userId": "04312855735425133717"
     },
     "user_tz": -540
    },
    "id": "f4c772d6"
   },
   "outputs": [],
   "source": [
    "#Setting the random seed\n",
    "np.random.seed(123)"
   ]
  },
  {
   "cell_type": "code",
   "execution_count": 3,
   "id": "2264f8bc",
   "metadata": {
    "colab": {
     "base_uri": "https://localhost:8080/"
    },
    "executionInfo": {
     "elapsed": 256,
     "status": "ok",
     "timestamp": 1647838032795,
     "user": {
      "displayName": "이기천",
      "photoUrl": "https://lh3.googleusercontent.com/a/default-user=s64",
      "userId": "04312855735425133717"
     },
     "user_tz": -540
    },
    "id": "2264f8bc",
    "outputId": "18b9c6f2-cc36-466c-9373-98998efcebca"
   },
   "outputs": [
    {
     "data": {
      "text/plain": [
       "array([2, 1, 2, 2, 0, 2, 2, 1, 3, 2, 3, 1])"
      ]
     },
     "execution_count": 3,
     "metadata": {},
     "output_type": "execute_result"
    }
   ],
   "source": [
    "# Sampling is done with replacement by default\n",
    "np.random.choice(4, 12)"
   ]
  },
  {
   "cell_type": "code",
   "execution_count": 4,
   "id": "f7bbb091",
   "metadata": {
    "colab": {
     "base_uri": "https://localhost:8080/"
    },
    "executionInfo": {
     "elapsed": 249,
     "status": "ok",
     "timestamp": 1647838118827,
     "user": {
      "displayName": "이기천",
      "photoUrl": "https://lh3.googleusercontent.com/a/default-user=s64",
      "userId": "04312855735425133717"
     },
     "user_tz": -540
    },
    "id": "f7bbb091",
    "outputId": "d6a4516d-767d-46bc-b679-201a37a0e5a5"
   },
   "outputs": [
    {
     "data": {
      "text/plain": [
       "array([3, 3, 1, 0, 0, 3, 1, 0, 0, 3, 0, 0])"
      ]
     },
     "execution_count": 4,
     "metadata": {},
     "output_type": "execute_result"
    }
   ],
   "source": [
    "# Probability weights can be given\n",
    "np.random.choice(4, 12, p=[.4, .1, .1, .4])"
   ]
  },
  {
   "cell_type": "code",
   "execution_count": 6,
   "id": "ffb9acce",
   "metadata": {
    "colab": {
     "base_uri": "https://localhost:8080/"
    },
    "executionInfo": {
     "elapsed": 255,
     "status": "ok",
     "timestamp": 1647838195447,
     "user": {
      "displayName": "이기천",
      "photoUrl": "https://lh3.googleusercontent.com/a/default-user=s64",
      "userId": "04312855735425133717"
     },
     "user_tz": -540
    },
    "id": "ffb9acce",
    "outputId": "03b47ab4-73ef-41b1-de3e-c022af5dea90"
   },
   "outputs": [
    {
     "name": "stdout",
     "output_type": "stream",
     "text": [
      "[[6 4 4 7 0 0 9 8 8 4 8 6]\n",
      " [1 6 8 7 9 1 7 1 7 9 8 7]\n",
      " [1 3 1 8 7 5 1 2 5 2 2 9]\n",
      " [3 2 6 7 9 1 3 8 3 7 9 9]\n",
      " [3 3 5 6 0 8 7 7 4 4 5 0]\n",
      " [8 9 2 5 1 5 9 2 4 3 0 3]\n",
      " [7 7 2 5 1 7 5 9 1 2 8 5]\n",
      " [0 9 3 3 3 1 7 6 3 1 7 2]]\n",
      "96\n",
      "(8, 12)\n",
      "8\n",
      "12\n",
      "[6 4 4 7 0 0 9 8 8 4 8 6 1 6 8 7 9 1 7 1 7 9 8 7 1 3 1 8 7 5 1 2 5 2 2 9 3\n",
      " 2 6 7 9 1 3 8 3 7 9 9 3 3 5 6 0 8 7 7 4 4 5 0 8 9 2 5 1 5 9 2 4 3 0 3 7 7\n",
      " 2 5 1 7 5 9 1 2 8 5 0 9 3 3 3 1 7 6 3 1 7 2]\n",
      "10\n"
     ]
    }
   ],
   "source": [
    "x = np.random.randint(0, 10, (8, 12))\n",
    "print(x)\n",
    "print( np.size(x) )\n",
    "print( x.shape )\n",
    "print( x.shape[0] )\n",
    "print( x.shape[1] )\n",
    "print( x.ravel() )\n",
    "print( sum( x.ravel() == 8 ) )"
   ]
  },
  {
   "cell_type": "code",
   "execution_count": 7,
   "id": "780edb8d",
   "metadata": {
    "colab": {
     "base_uri": "https://localhost:8080/"
    },
    "executionInfo": {
     "elapsed": 254,
     "status": "ok",
     "timestamp": 1647838252153,
     "user": {
      "displayName": "이기천",
      "photoUrl": "https://lh3.googleusercontent.com/a/default-user=s64",
      "userId": "04312855735425133717"
     },
     "user_tz": -540
    },
    "id": "780edb8d",
    "outputId": "212425c5-42de-4748-ae37-70aea5f85e06"
   },
   "outputs": [
    {
     "data": {
      "text/plain": [
       "array([3, 6, 0, 4, 9, 4, 3, 9, 1, 5, 3, 3])"
      ]
     },
     "execution_count": 7,
     "metadata": {},
     "output_type": "execute_result"
    }
   ],
   "source": [
    "# sampling individual elements\n",
    "# https://numpy.org/doc/stable/reference/random/generated/numpy.random.choice.html\n",
    "np.random.choice(x.ravel(), 12)\n",
    "# numpy.ravel() flattens the input array, like array.reshape(-1)"
   ]
  },
  {
   "cell_type": "code",
   "execution_count": 8,
   "id": "5616dcb1",
   "metadata": {
    "colab": {
     "base_uri": "https://localhost:8080/"
    },
    "executionInfo": {
     "elapsed": 321,
     "status": "ok",
     "timestamp": 1647838265929,
     "user": {
      "displayName": "이기천",
      "photoUrl": "https://lh3.googleusercontent.com/a/default-user=s64",
      "userId": "04312855735425133717"
     },
     "user_tz": -540
    },
    "id": "5616dcb1",
    "outputId": "f8c5b8af-3a22-4829-aa45-c7e989a361d8"
   },
   "outputs": [
    {
     "data": {
      "text/plain": [
       "array([[3, 3, 5, 6, 0, 8, 7, 7, 4, 4, 5, 0],\n",
       "       [3, 2, 6, 7, 9, 1, 3, 8, 3, 7, 9, 9],\n",
       "       [3, 2, 6, 7, 9, 1, 3, 8, 3, 7, 9, 9],\n",
       "       [1, 6, 8, 7, 9, 1, 7, 1, 7, 9, 8, 7]])"
      ]
     },
     "execution_count": 8,
     "metadata": {},
     "output_type": "execute_result"
    }
   ],
   "source": [
    "# sampling rows\n",
    "idx = np.random.choice(x.shape[0], 4)\n",
    "x[idx, :]"
   ]
  },
  {
   "cell_type": "code",
   "execution_count": 9,
   "id": "77ebda54",
   "metadata": {
    "colab": {
     "base_uri": "https://localhost:8080/"
    },
    "executionInfo": {
     "elapsed": 386,
     "status": "ok",
     "timestamp": 1647838345498,
     "user": {
      "displayName": "이기천",
      "photoUrl": "https://lh3.googleusercontent.com/a/default-user=s64",
      "userId": "04312855735425133717"
     },
     "user_tz": -540
    },
    "id": "77ebda54",
    "outputId": "7541728b-8bdc-4028-a2d8-3d38503a86f5"
   },
   "outputs": [
    {
     "data": {
      "text/plain": [
       "array([[8, 8, 0, 8],\n",
       "       [1, 7, 1, 1],\n",
       "       [2, 5, 5, 2],\n",
       "       [8, 3, 1, 8],\n",
       "       [7, 4, 8, 7],\n",
       "       [2, 4, 5, 2],\n",
       "       [9, 1, 7, 9],\n",
       "       [6, 3, 1, 6]])"
      ]
     },
     "execution_count": 9,
     "metadata": {},
     "output_type": "execute_result"
    }
   ],
   "source": [
    "# sampling columns\n",
    "idx = np.random.choice(x.shape[1], 4)\n",
    "x[:, idx]"
   ]
  },
  {
   "cell_type": "code",
   "execution_count": null,
   "id": "798e6813",
   "metadata": {
    "colab": {
     "base_uri": "https://localhost:8080/"
    },
    "executionInfo": {
     "elapsed": 258,
     "status": "ok",
     "timestamp": 1647051476931,
     "user": {
      "displayName": "이기천",
      "photoUrl": "https://lh3.googleusercontent.com/a/default-user=s64",
      "userId": "04312855735425133717"
     },
     "user_tz": -540
    },
    "id": "798e6813",
    "outputId": "4c29f2c0-f19d-4912-99b0-5fd7d4ad8bb0"
   },
   "outputs": [
    {
     "name": "stdout",
     "output_type": "stream",
     "text": [
      "[[7 2 4 8 0 7 9 3 4 6 1 5]\n",
      " [6 2 1 8 3 5 0 2 6 2 4 4]\n",
      " [6 3 0 6 4 7 6 7 1 5 7 9]\n",
      " [2 4 8 1 2 1 1 3 5 9 0 8]\n",
      " [1 6 3 3 5 9 7 9 2 3 3 3]\n",
      " [8 6 9 7 6 3 9 6 6 6 1 3]\n",
      " [4 3 1 0 5 8 6 8 9 1 0 3]\n",
      " [1 3 4 7 6 1 4 3 3 7 6 8]]\n"
     ]
    }
   ],
   "source": [
    "print( x )"
   ]
  },
  {
   "cell_type": "code",
   "execution_count": null,
   "id": "02cc9a5d",
   "metadata": {
    "colab": {
     "base_uri": "https://localhost:8080/"
    },
    "executionInfo": {
     "elapsed": 255,
     "status": "ok",
     "timestamp": 1647051479265,
     "user": {
      "displayName": "이기천",
      "photoUrl": "https://lh3.googleusercontent.com/a/default-user=s64",
      "userId": "04312855735425133717"
     },
     "user_tz": -540
    },
    "id": "02cc9a5d",
    "outputId": "a2d04a94-5769-446e-de28-eeae8c314794"
   },
   "outputs": [
    {
     "name": "stdout",
     "output_type": "stream",
     "text": [
      "[[7 2 4 8 0 7 9 3 4 6 1 5]\n",
      " [4 3 1 0 5 8 6 8 9 1 0 3]\n",
      " [8 6 9 7 6 3 9 6 6 6 1 3]\n",
      " [2 4 8 1 2 1 1 3 5 9 0 8]\n",
      " [6 3 0 6 4 7 6 7 1 5 7 9]\n",
      " [6 2 1 8 3 5 0 2 6 2 4 4]\n",
      " [1 3 4 7 6 1 4 3 3 7 6 8]\n",
      " [1 6 3 3 5 9 7 9 2 3 3 3]]\n"
     ]
    },
    {
     "data": {
      "text/plain": [
       "8"
      ]
     },
     "execution_count": 10,
     "metadata": {},
     "output_type": "execute_result"
    }
   ],
   "source": [
    "# Shuffling occurs \"in place\" for efficiency in a row-wise manner\n",
    "np.random.shuffle(x)\n",
    "print( x )\n",
    "sum( x.ravel() == 8 )"
   ]
  },
  {
   "cell_type": "code",
   "execution_count": null,
   "id": "d7325817",
   "metadata": {
    "colab": {
     "base_uri": "https://localhost:8080/"
    },
    "executionInfo": {
     "elapsed": 268,
     "status": "ok",
     "timestamp": 1647051481585,
     "user": {
      "displayName": "이기천",
      "photoUrl": "https://lh3.googleusercontent.com/a/default-user=s64",
      "userId": "04312855735425133717"
     },
     "user_tz": -540
    },
    "id": "d7325817",
    "outputId": "b7742a8e-a810-46ba-d892-542b462ce061"
   },
   "outputs": [
    {
     "data": {
      "text/plain": [
       "array([[7, 0, 4, 7, 9, 8, 1, 6, 4, 3, 2, 5],\n",
       "       [8, 5, 1, 4, 6, 0, 0, 1, 9, 8, 3, 3],\n",
       "       [3, 6, 9, 8, 9, 7, 1, 6, 6, 6, 6, 3],\n",
       "       [1, 2, 8, 2, 1, 1, 0, 9, 5, 3, 4, 8],\n",
       "       [7, 4, 0, 6, 6, 6, 7, 5, 1, 7, 3, 9],\n",
       "       [5, 3, 1, 6, 0, 8, 4, 2, 6, 2, 2, 4],\n",
       "       [1, 6, 4, 1, 4, 7, 6, 7, 3, 3, 3, 8],\n",
       "       [9, 5, 3, 1, 7, 3, 3, 3, 2, 9, 6, 3]])"
      ]
     },
     "execution_count": 11,
     "metadata": {},
     "output_type": "execute_result"
    }
   ],
   "source": [
    "# To shuffle columns instead, transpose before shuffling\n",
    "np.random.shuffle(x.T)\n",
    "x"
   ]
  },
  {
   "cell_type": "code",
   "execution_count": null,
   "id": "2e1958fb",
   "metadata": {
    "colab": {
     "base_uri": "https://localhost:8080/"
    },
    "executionInfo": {
     "elapsed": 268,
     "status": "ok",
     "timestamp": 1647051483975,
     "user": {
      "displayName": "이기천",
      "photoUrl": "https://lh3.googleusercontent.com/a/default-user=s64",
      "userId": "04312855735425133717"
     },
     "user_tz": -540
    },
    "id": "2e1958fb",
    "outputId": "7c42e4c4-8449-419f-8997-f98ad71a483c"
   },
   "outputs": [
    {
     "name": "stdout",
     "output_type": "stream",
     "text": [
      "[[7 0 4 7 9 8 1 6 4 3 2 5]\n",
      " [8 5 1 4 6 0 0 1 9 8 3 3]\n",
      " [3 6 9 8 9 7 1 6 6 6 6 3]\n",
      " [1 2 8 2 1 1 0 9 5 3 4 8]\n",
      " [7 4 0 6 6 6 7 5 1 7 3 9]\n",
      " [5 3 1 6 0 8 4 2 6 2 2 4]\n",
      " [1 6 4 1 4 7 6 7 3 3 3 8]\n",
      " [9 5 3 1 7 3 3 3 2 9 6 3]]\n",
      "[[7 0 4 7 9 8 1 6 4 3 2 5]\n",
      " [1 6 4 1 4 7 6 7 3 3 3 8]\n",
      " [1 2 8 2 1 1 0 9 5 3 4 8]\n",
      " [7 4 0 6 6 6 7 5 1 7 3 9]\n",
      " [9 5 3 1 7 3 3 3 2 9 6 3]\n",
      " [3 6 9 8 9 7 1 6 6 6 6 3]\n",
      " [8 5 1 4 6 0 0 1 9 8 3 3]\n",
      " [5 3 1 6 0 8 4 2 6 2 2 4]]\n",
      "[[7 0 4 7 9 8 1 6 4 3 2 5]\n",
      " [8 5 1 4 6 0 0 1 9 8 3 3]\n",
      " [3 6 9 8 9 7 1 6 6 6 6 3]\n",
      " [1 2 8 2 1 1 0 9 5 3 4 8]\n",
      " [7 4 0 6 6 6 7 5 1 7 3 9]\n",
      " [5 3 1 6 0 8 4 2 6 2 2 4]\n",
      " [1 6 4 1 4 7 6 7 3 3 3 8]\n",
      " [9 5 3 1 7 3 3 3 2 9 6 3]]\n"
     ]
    }
   ],
   "source": [
    "print(x)\n",
    "# numpy.random.permutation does the same thing but returns a copy\n",
    "print( np.random.permutation(x) )\n",
    "print(x)"
   ]
  },
  {
   "cell_type": "code",
   "execution_count": null,
   "id": "d694d62f",
   "metadata": {
    "colab": {
     "base_uri": "https://localhost:8080/"
    },
    "executionInfo": {
     "elapsed": 249,
     "status": "ok",
     "timestamp": 1647051487971,
     "user": {
      "displayName": "이기천",
      "photoUrl": "https://lh3.googleusercontent.com/a/default-user=s64",
      "userId": "04312855735425133717"
     },
     "user_tz": -540
    },
    "id": "d694d62f",
    "outputId": "280c94f6-98e7-4581-aada-ad375fe2e186"
   },
   "outputs": [
    {
     "data": {
      "text/plain": [
       "array([4, 0, 6, 7, 5, 1, 8, 2, 3, 9])"
      ]
     },
     "execution_count": 13,
     "metadata": {},
     "output_type": "execute_result"
    }
   ],
   "source": [
    "# When given an integre n, permutation treats is as the array arange(n)\n",
    "np.random.permutation(10)"
   ]
  },
  {
   "cell_type": "code",
   "execution_count": null,
   "id": "356bcc62",
   "metadata": {
    "colab": {
     "base_uri": "https://localhost:8080/"
    },
    "executionInfo": {
     "elapsed": 265,
     "status": "ok",
     "timestamp": 1647051489673,
     "user": {
      "displayName": "이기천",
      "photoUrl": "https://lh3.googleusercontent.com/a/default-user=s64",
      "userId": "04312855735425133717"
     },
     "user_tz": -540
    },
    "id": "356bcc62",
    "outputId": "c21ea931-30b3-4c1c-f338-c11a14cae57e"
   },
   "outputs": [
    {
     "name": "stdout",
     "output_type": "stream",
     "text": [
      "[[ 0  1  2]\n",
      " [ 3  4  5]\n",
      " [ 6  7  8]\n",
      " [ 9 10 11]]\n",
      "[3 1 2 0]\n",
      "[[ 9 10 11]\n",
      " [ 3  4  5]\n",
      " [ 6  7  8]\n",
      " [ 0  1  2]]\n",
      "[[19 20 21]\n",
      " [13 14 15]\n",
      " [16 17 18]\n",
      " [10 11 12]]\n"
     ]
    }
   ],
   "source": [
    "# Use indices if you needed to shuffle collections of arrays in synchrony\n",
    "x = np.arange(12).reshape(4,3)\n",
    "y = x + 10\n",
    "idx = np.random.permutation(x.shape[0])\n",
    "print(x)\n",
    "print(idx)\n",
    "print(x[idx, :])\n",
    "print(y[idx, :])"
   ]
  },
  {
   "cell_type": "code",
   "execution_count": 14,
   "id": "2e572e0c",
   "metadata": {
    "colab": {
     "base_uri": "https://localhost:8080/",
     "height": 265
    },
    "executionInfo": {
     "elapsed": 302,
     "status": "ok",
     "timestamp": 1647838666463,
     "user": {
      "displayName": "이기천",
      "photoUrl": "https://lh3.googleusercontent.com/a/default-user=s64",
      "userId": "04312855735425133717"
     },
     "user_tz": -540
    },
    "id": "2e572e0c",
    "outputId": "ad1ebe38-d246-4e6e-af93-a89b25c61ebe"
   },
   "outputs": [
    {
     "data": {
      "image/png": "[encoded data removed]",
      "text/plain": [
       "<Figure size 432x288 with 1 Axes>"
      ]
     },
     "metadata": {
      "needs_background": "light"
     },
     "output_type": "display_data"
    }
   ],
   "source": [
    "# For example, what is the 95% confidence interval for\n",
    "# the mean of this data set if you didn't know how it was generated?\n",
    "\n",
    "x = np.concatenate([np.random.normal(size=300)])\n",
    "plt.hist(x, 25, histtype='step');"
   ]
  },
  {
   "cell_type": "code",
   "execution_count": 15,
   "id": "326ae572",
   "metadata": {
    "colab": {
     "base_uri": "https://localhost:8080/"
    },
    "executionInfo": {
     "elapsed": 266,
     "status": "ok",
     "timestamp": 1647838691896,
     "user": {
      "displayName": "이기천",
      "photoUrl": "https://lh3.googleusercontent.com/a/default-user=s64",
      "userId": "04312855735425133717"
     },
     "user_tz": -540
    },
    "id": "326ae572",
    "outputId": "99877c6d-a647-4bb4-df53-2bda393c69d7"
   },
   "outputs": [
    {
     "name": "stdout",
     "output_type": "stream",
     "text": [
      "(300, 10000)\n",
      "[-0.114 0.116]\n"
     ]
    }
   ],
   "source": [
    "n = len(x)\n",
    "reps = 10000\n",
    "xb = np.random.choice(x, (n, reps))\n",
    "print( xb.shape )\n",
    "mb = xb.mean(axis=0)\n",
    "mb.sort()\n",
    "\n",
    "print( np.percentile(mb, [2.5, 97.5]) )\n"
   ]
  },
  {
   "cell_type": "code",
   "execution_count": 16,
   "id": "6e0eeca8",
   "metadata": {
    "colab": {
     "base_uri": "https://localhost:8080/"
    },
    "executionInfo": {
     "elapsed": 911,
     "status": "ok",
     "timestamp": 1647839064323,
     "user": {
      "displayName": "이기천",
      "photoUrl": "https://lh3.googleusercontent.com/a/default-user=s64",
      "userId": "04312855735425133717"
     },
     "user_tz": -540
    },
    "id": "6e0eeca8",
    "outputId": "e417708c-3164-4c16-9d6d-641268dd0ef1"
   },
   "outputs": [
    {
     "name": "stdout",
     "output_type": "stream",
     "text": [
      "0.0014678860161940193 0.9949184828611022 17.320508075688775\n",
      "1.959963984540054\n",
      "-1.959963984540054\n",
      "theoretical\n",
      "[-0.11315857340761716, 0.11315857340761716]\n"
     ]
    }
   ],
   "source": [
    "import math\n",
    "print( x.mean(axis=0), x.std(axis=0), math.sqrt(n) )\n",
    "\n",
    "#https://www.geeksforgeeks.org/numpy-quantile-in-python/\n",
    "import scipy.stats\n",
    "z_upper = scipy.stats.norm.ppf(0.975)\n",
    "print( z_upper )\n",
    "z_lower = scipy.stats.norm.ppf(1-0.975)\n",
    "print( z_lower  )\n",
    "\n",
    "print('theoretical')\n",
    "print( [z_lower/math.sqrt(n), z_upper/math.sqrt(n)] )"
   ]
  },
  {
   "cell_type": "code",
   "execution_count": null,
   "id": "8c0a5c02",
   "metadata": {
    "colab": {
     "base_uri": "https://localhost:8080/",
     "height": 265
    },
    "executionInfo": {
     "elapsed": 794,
     "status": "ok",
     "timestamp": 1647051500980,
     "user": {
      "displayName": "이기천",
      "photoUrl": "https://lh3.googleusercontent.com/a/default-user=s64",
      "userId": "04312855735425133717"
     },
     "user_tz": -540
    },
    "id": "8c0a5c02",
    "outputId": "2dbab534-e2da-4ce6-e4f1-79949857061c"
   },
   "outputs": [
    {
     "data": {
      "image/png": "[encoded data removed]",
      "text/plain": [
       "<Figure size 432x288 with 1 Axes>"
      ]
     },
     "metadata": {
      "needs_background": "light"
     },
     "output_type": "display_data"
    }
   ],
   "source": [
    "# For example, what is the 95% confidence interval for\n",
    "# the mean of this data set if you didn't know how it was generated?\n",
    "\n",
    "x = np.concatenate([np.random.exponential(size=200), np.random.normal(size=100)])\n",
    "plt.hist(x, 25, histtype='step');"
   ]
  },
  {
   "cell_type": "code",
   "execution_count": null,
   "id": "6a1c941b",
   "metadata": {
    "colab": {
     "base_uri": "https://localhost:8080/"
    },
    "executionInfo": {
     "elapsed": 436,
     "status": "ok",
     "timestamp": 1647051504223,
     "user": {
      "displayName": "이기천",
      "photoUrl": "https://lh3.googleusercontent.com/a/default-user=s64",
      "userId": "04312855735425133717"
     },
     "user_tz": -540
    },
    "id": "6a1c941b",
    "outputId": "48afda62-c6ec-4122-9dd0-7a044636c418"
   },
   "outputs": [
    {
     "data": {
      "text/plain": [
       "array([0.537, 0.817])"
      ]
     },
     "execution_count": 19,
     "metadata": {},
     "output_type": "execute_result"
    }
   ],
   "source": [
    "n = len(x)\n",
    "reps = 10000\n",
    "xb = np.random.choice(x, (n, reps))\n",
    "mb = xb.mean(axis=0)\n",
    "mb.sort()\n",
    "\n",
    "np.percentile(mb, [2.5, 97.5])"
   ]
  },
  {
   "cell_type": "code",
   "execution_count": null,
   "id": "0d64d232",
   "metadata": {
    "id": "0d64d232"
   },
   "outputs": [],
   "source": [
    "def f(x):\n",
    "    return x * np.cos(71*x) + np.sin(13*x)"
   ]
  },
  {
   "cell_type": "code",
   "execution_count": null,
   "id": "406abf3d",
   "metadata": {
    "colab": {
     "base_uri": "https://localhost:8080/"
    },
    "executionInfo": {
     "elapsed": 392,
     "status": "ok",
     "timestamp": 1647051509754,
     "user": {
      "displayName": "이기천",
      "photoUrl": "https://lh3.googleusercontent.com/a/default-user=s64",
      "userId": "04312855735425133717"
     },
     "user_tz": -540
    },
    "id": "406abf3d",
    "outputId": "9df1e121-acc0-4aa1-cdf5-764bb0e8c0c4"
   },
   "outputs": [
    {
     "name": "stdout",
     "output_type": "stream",
     "text": [
      "[0.538 0.850 -1.248 -0.601 -1.361 0.521 1.457 -0.010 0.132 -1.271 0.469\n",
      " 0.409 1.031 -0.486 0.118 -0.571 -1.114 -0.002 -1.079 0.011 0.420 0.472\n",
      " -1.106 -0.934 0.948 0.222 -1.351 0.948 -0.055 -0.928 -1.407 0.145 0.021\n",
      " -1.116 0.479 -0.826 0.648 -1.246 -1.099 -0.084 0.414 0.903 -1.081 -1.045\n",
      " 0.513 -1.297 0.891 1.080 0.854 -0.654 0.773 0.271 -0.754 -0.224 0.853\n",
      " -0.045 -0.041 0.573 1.463 -0.033 0.007 -0.104 0.777 0.572 0.887 -0.346\n",
      " -0.514 0.006 0.855 0.578 -1.060 0.044 -0.712 -1.549 0.892 0.867 -1.121\n",
      " -1.798 -0.057 -0.004 0.241 -0.787 -0.031 -0.791 -0.352 -0.254 -1.149\n",
      " 0.851 -0.207 1.135 -0.157 -0.004 1.185 1.008 -0.109 0.626 0.171 -0.186\n",
      " -1.081 1.331]\n"
     ]
    }
   ],
   "source": [
    "# data sample for integration\n",
    "n = 100\n",
    "x = f(np.random.random(n))\n",
    "print(x)"
   ]
  },
  {
   "cell_type": "code",
   "execution_count": null,
   "id": "c2964237",
   "metadata": {
    "colab": {
     "base_uri": "https://localhost:8080/"
    },
    "executionInfo": {
     "elapsed": 257,
     "status": "ok",
     "timestamp": 1647051512043,
     "user": {
      "displayName": "이기천",
      "photoUrl": "https://lh3.googleusercontent.com/a/default-user=s64",
      "userId": "04312855735425133717"
     },
     "user_tz": -540
    },
    "id": "c2964237",
    "outputId": "b9bf2bea-ca39-43d7-f20e-106ea2889ea7"
   },
   "outputs": [
    {
     "data": {
      "text/plain": [
       "array([0.760, 0.543, 0.864, 0.143, 0.718, 0.405, 0.219, 0.753, 0.198,\n",
       "       0.726, 0.397, 0.754, 0.323, 0.908, 0.171, 0.734, 0.608, 0.661,\n",
       "       0.043, 0.855, 0.743, 0.840, 0.193, 0.707, 0.668, 0.673, 0.076,\n",
       "       0.694, 0.391, 0.100, 0.028, 0.245, 0.608, 0.599, 0.182, 0.682,\n",
       "       0.165, 0.593, 0.817, 0.415, 0.798, 0.622, 0.330, 0.316, 0.951,\n",
       "       0.049, 0.999, 0.630, 0.424, 0.436, 0.029, 0.084, 0.553, 0.892,\n",
       "       0.992, 0.164, 0.055, 0.518, 0.309, 0.567, 0.368, 0.509, 0.641,\n",
       "       0.115, 0.620, 0.906, 0.675, 0.648, 0.592, 0.672, 0.488, 0.042,\n",
       "       0.117, 0.236, 0.324, 0.088, 0.416, 0.356, 0.738, 0.178, 0.576,\n",
       "       0.578, 0.182, 0.650, 0.986, 0.841, 0.120, 0.864, 0.391, 0.714,\n",
       "       0.454, 0.641, 0.707, 0.301, 0.591, 0.756, 0.677, 0.435, 0.107,\n",
       "       0.342])"
      ]
     },
     "execution_count": 22,
     "metadata": {},
     "output_type": "execute_result"
    }
   ],
   "source": [
    "#https://docs.scipy.org/doc/numpy-1.15.0/reference/generated/numpy.random.random.html\n",
    "np.random.random(n)"
   ]
  },
  {
   "cell_type": "code",
   "execution_count": null,
   "id": "86cee261",
   "metadata": {
    "colab": {
     "base_uri": "https://localhost:8080/"
    },
    "executionInfo": {
     "elapsed": 251,
     "status": "ok",
     "timestamp": 1647051514628,
     "user": {
      "displayName": "이기천",
      "photoUrl": "https://lh3.googleusercontent.com/a/default-user=s64",
      "userId": "04312855735425133717"
     },
     "user_tz": -540
    },
    "id": "86cee261",
    "outputId": "8507a407-ba56-4b5c-f3c4-bf9763ac6dbd"
   },
   "outputs": [
    {
     "name": "stdout",
     "output_type": "stream",
     "text": [
      "[[-1.045 -1.248 0.777 ... -0.352 -0.002 -0.571]\n",
      " [-0.109 -1.079 -0.157 ... -0.514 0.572 1.031]\n",
      " [0.513 0.573 0.007 ... -0.787 0.513 -0.002]\n",
      " ...\n",
      " [-0.045 0.007 -1.351 ... -0.791 -0.045 -1.121]\n",
      " [0.948 -0.352 -0.033 ... 0.271 -1.798 -0.514]\n",
      " [-0.754 -1.297 -1.106 ... 0.472 -1.081 -0.010]]\n",
      "(100, 1000)\n",
      "[[-1.045 -1.248 0.777 ... -0.352 -0.002 -0.571]\n",
      " [-1.154 -2.327 0.620 ... -0.866 0.570 0.461]\n",
      " [-0.641 -1.754 0.627 ... -1.653 1.082 0.458]\n",
      " ...\n",
      " [-26.176 -5.749 -15.106 ... 4.793 3.088 -2.029]\n",
      " [-25.228 -6.101 -15.139 ... 5.064 1.289 -2.544]\n",
      " [-25.982 -7.398 -16.245 ... 5.536 0.208 -2.554]]\n"
     ]
    }
   ],
   "source": [
    "# bootstrap MC integration\n",
    "reps = 1000\n",
    "xb = np.random.choice(x, (n, reps), replace=True)\n",
    "print(xb)\n",
    "print(xb.shape)\n",
    "#print(np.arange(1, n+1))\n",
    "#print(np.arange(1, n+1)[:, None].shape)\n",
    "#https://numpy.org/doc/stable/reference/generated/numpy.cumsum.html\n",
    "print( np.cumsum(xb, axis=0) )\n",
    "yb = 1/np.arange(1, n+1)[:, None] * np.cumsum(xb, axis=0)\n",
    "upper, lower = np.percentile(yb, [2.5, 97.5], axis=1)"
   ]
  },
  {
   "cell_type": "code",
   "execution_count": null,
   "id": "e7cbcee0",
   "metadata": {
    "colab": {
     "base_uri": "https://localhost:8080/",
     "height": 265
    },
    "executionInfo": {
     "elapsed": 1859,
     "status": "ok",
     "timestamp": 1647051519801,
     "user": {
      "displayName": "이기천",
      "photoUrl": "https://lh3.googleusercontent.com/a/default-user=s64",
      "userId": "04312855735425133717"
     },
     "user_tz": -540
    },
    "id": "e7cbcee0",
    "outputId": "5c3be8eb-0351-428a-cf55-cf985b439dfa"
   },
   "outputs": [
    {
     "data": {
      "image/png": "[encoded data removed]",
      "text/plain": [
       "<Figure size 432x288 with 1 Axes>"
      ]
     },
     "metadata": {
      "needs_background": "light"
     },
     "output_type": "display_data"
    }
   ],
   "source": [
    "plt.plot(np.arange(1, n+1)[:, None], yb, c='grey', alpha=0.02)\n",
    "plt.plot(np.arange(1, n+1), yb[:, 0], c='red', linewidth=1)\n",
    "plt.plot(np.arange(1, n+1), upper, 'b', np.arange(1, n+1), lower, 'b');"
   ]
  },
  {
   "cell_type": "code",
   "execution_count": null,
   "id": "add23e81",
   "metadata": {
    "id": "add23e81"
   },
   "outputs": [],
   "source": []
  }
 ],
 "metadata": {
  "colab": {
   "collapsed_sections": [],
   "name": "ResamplingExample.ipynb",
   "provenance": []
  },
  "kernelspec": {
   "display_name": "Python 3 (ipykernel)",
   "language": "python",
   "name": "python3"
  },
  "language_info": {
   "codemirror_mode": {
    "name": "ipython",
    "version": 3
   },
   "file_extension": ".py",
   "mimetype": "text/x-python",
   "name": "python",
   "nbconvert_exporter": "python",
   "pygments_lexer": "ipython3",
   "version": "3.9.13"
  }
 },
 "nbformat": 4,
 "nbformat_minor": 5
}
